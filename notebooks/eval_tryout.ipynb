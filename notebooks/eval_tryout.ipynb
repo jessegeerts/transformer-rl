{
 "cells": [
  {
   "cell_type": "code",
   "execution_count": 554,
   "metadata": {
    "collapsed": true,
    "ExecuteTime": {
     "end_time": "2023-07-31T14:55:23.665292Z",
     "start_time": "2023-07-31T14:55:23.657835Z"
    }
   },
   "outputs": [],
   "source": [
    "import torch\n",
    "import numpy\n",
    "import matplotlib.pyplot as plt\n",
    "from definitions import model_save_dir\n",
    "import os\n",
    "from decision_transformer import DecisionTransformer\n",
    "from utils import evaluate_on_env_array, evaluate_on_env_append\n",
    "from environments.mazes import AltTmaze, CuedTmaze\n",
    "\n",
    "from definitions import model_save_dir, ROOT_FOLDER\n"
   ]
  },
  {
   "cell_type": "code",
   "execution_count": 565,
   "outputs": [
    {
     "data": {
      "text/plain": "DecisionTransformer(\n  (transformer): StackedBlocks(\n    (blocks): ModuleList(\n      (0): Block(\n        (attention): CausalMultiheadAttention(\n          (q_net): Linear(in_features=32, out_features=32, bias=True)\n          (k_net): Linear(in_features=32, out_features=32, bias=True)\n          (v_net): Linear(in_features=32, out_features=32, bias=True)\n          (proj_net): Linear(in_features=32, out_features=32, bias=True)\n          (att_dropout): Dropout(p=0.1, inplace=False)\n          (proj_dropout): Dropout(p=0.1, inplace=False)\n        )\n        (mlp1): Sequential(\n          (0): Linear(in_features=32, out_features=128, bias=True)\n          (1): GELU(approximate='none')\n        )\n        (mlp2): Sequential(\n          (0): Linear(in_features=128, out_features=32, bias=True)\n          (1): Dropout(p=0.1, inplace=False)\n        )\n        (ln1): LayerNorm((32,), eps=1e-05, elementwise_affine=True)\n        (ln2): LayerNorm((32,), eps=1e-05, elementwise_affine=True)\n      )\n    )\n  )\n  (embed_ln): LayerNorm((32,), eps=1e-05, elementwise_affine=True)\n  (embed_timestep): Embedding(4096, 32)\n  (embed_rtg): Linear(in_features=1, out_features=32, bias=True)\n  (embed_state): Embedding(55, 32)\n  (embed_action): Embedding(5, 32)\n  (predict_rtg): Linear(in_features=32, out_features=1, bias=True)\n  (predict_state): Linear(in_features=32, out_features=55, bias=True)\n  (predict_action): Sequential(\n    (0): Linear(in_features=32, out_features=5, bias=True)\n  )\n)"
     },
     "execution_count": 565,
     "metadata": {},
     "output_type": "execute_result"
    }
   ],
   "source": [
    "evaluate_on_env = evaluate_on_env_array\n",
    "\n",
    "model_fn = 'CuedTmazeTransformer_7_31_15_4head.pt'\n",
    "\n",
    "target = 1.\n",
    "\n",
    "env = CuedTmaze(render_mode='human')\n",
    "\n",
    "\n",
    "# model hyperparameters\n",
    "n_blocks = 1\n",
    "embed_dim = 32\n",
    "context_len = 10\n",
    "n_heads = 4\n",
    "dropout_p = 0.1\n",
    "state_dim = env.n_states\n",
    "act_dim = 4\n",
    "\n",
    "\n",
    "# load model\n",
    "model = DecisionTransformer(\n",
    "    state_dim=state_dim,\n",
    "    act_dim=act_dim,\n",
    "    n_blocks=n_blocks,\n",
    "    h_dim=embed_dim,\n",
    "    context_len=context_len,\n",
    "    n_heads=n_heads,\n",
    "    drop_p=dropout_p,\n",
    "    action_mask_value=env.n_actions,\n",
    "    state_mask_value=env.n_states\n",
    ")\n",
    "\n",
    "\n",
    "model.load_state_dict(torch.load(os.path.join(model_save_dir, model_fn)))\n",
    "model.eval()\n"
   ],
   "metadata": {
    "collapsed": false,
    "ExecuteTime": {
     "end_time": "2023-07-31T14:56:38.901824Z",
     "start_time": "2023-07-31T14:56:38.873858Z"
    }
   }
  },
  {
   "cell_type": "code",
   "execution_count": 566,
   "outputs": [],
   "source": [
    "# zeros place holders\n",
    "max_ep_len = 50\n",
    "\n",
    "timesteps = torch.arange(start=0, end=max_ep_len, step=1).unsqueeze(0)\n",
    "actions = torch.zeros((1, max_ep_len), dtype=torch.int32)\n",
    "states = torch.zeros((1, max_ep_len), dtype=torch.int32)\n",
    "rewards_to_go = torch.zeros((1, max_ep_len, 1), dtype=torch.float32)\n",
    "\n",
    "# add same mask as used for training\n",
    "states[:] = env.n_states\n",
    "actions[:] = env.n_actions\n",
    "rewards_to_go[:] = target\n",
    "\n",
    "# init episode\n",
    "running_state = 48  # 48 is the start state, optimal action is 1\n",
    "env.reset(running_state)\n",
    "\n",
    "t = 0\n",
    "states[0, t] = running_state\n",
    "\n",
    "padding_len = 0\n",
    "\n",
    "input_timesteps = timesteps[:, :t+padding_len+1]\n",
    "input_states = states[:, :t+padding_len+1]\n",
    "input_actions = actions[:, :t+padding_len+1]\n",
    "input_rewards_to_go = rewards_to_go[:, :t+padding_len+1]\n",
    "\n",
    "_, act_preds, _, all_weights, mlp_activations = model.forward(input_timesteps,\n",
    "                                                              input_states,\n",
    "                                                              input_actions,\n",
    "                                                              input_rewards_to_go)\n"
   ],
   "metadata": {
    "collapsed": false,
    "ExecuteTime": {
     "end_time": "2023-07-31T14:56:39.445419Z",
     "start_time": "2023-07-31T14:56:39.438614Z"
    }
   }
  },
  {
   "cell_type": "code",
   "execution_count": 567,
   "outputs": [
    {
     "data": {
      "text/plain": "(tensor([[48]], dtype=torch.int32),\n tensor([[4]], dtype=torch.int32),\n tensor([[0]]),\n tensor([[[1.]]]))"
     },
     "execution_count": 567,
     "metadata": {},
     "output_type": "execute_result"
    }
   ],
   "source": [
    "input_states, input_actions, input_timesteps, input_rewards_to_go"
   ],
   "metadata": {
    "collapsed": false,
    "ExecuteTime": {
     "end_time": "2023-07-31T14:56:39.978099Z",
     "start_time": "2023-07-31T14:56:39.970749Z"
    }
   }
  },
  {
   "cell_type": "markdown",
   "source": [
    "# step 1"
   ],
   "metadata": {
    "collapsed": false
   }
  },
  {
   "cell_type": "code",
   "execution_count": 568,
   "outputs": [
    {
     "data": {
      "text/plain": "<Figure size 640x480 with 2 Axes>",
      "image/png": "[encoded data removed]"
     },
     "metadata": {},
     "output_type": "display_data"
    }
   ],
   "source": [
    "logits = act_preds.detach().numpy().squeeze(axis=0)\n",
    "\n",
    "plt.imshow(logits, cmap='coolwarm', vmin=min(logits.min(), -logits.max()), vmax=max(logits.max(), -logits.min()))\n",
    "plt.colorbar()\n",
    "plt.scatter(logits.argmax(axis=1), range(logits.shape[0]), c='k', marker='x')\n",
    "\n",
    "a = logits[t].argmax()\n"
   ],
   "metadata": {
    "collapsed": false,
    "ExecuteTime": {
     "end_time": "2023-07-31T14:56:41.074614Z",
     "start_time": "2023-07-31T14:56:40.946015Z"
    }
   }
  },
  {
   "cell_type": "code",
   "execution_count": 569,
   "outputs": [],
   "source": [
    "actions[0, t] = a\n",
    "new_state, reward, done, _ = env.step(a)\n",
    "t += 1\n",
    "states[0, t] = new_state"
   ],
   "metadata": {
    "collapsed": false,
    "ExecuteTime": {
     "end_time": "2023-07-31T14:56:41.607435Z",
     "start_time": "2023-07-31T14:56:41.604081Z"
    }
   }
  },
  {
   "cell_type": "code",
   "execution_count": 569,
   "outputs": [],
   "source": [],
   "metadata": {
    "collapsed": false,
    "ExecuteTime": {
     "end_time": "2023-07-31T14:56:42.239700Z",
     "start_time": "2023-07-31T14:56:42.233255Z"
    }
   }
  },
  {
   "cell_type": "code",
   "execution_count": 570,
   "outputs": [],
   "source": [
    "\n",
    "input_timesteps = timesteps[:, :t+padding_len+1]\n",
    "input_states = states[:, :t+padding_len+1]\n",
    "input_actions = actions[:, :t+padding_len+1]\n",
    "input_rewards_to_go = rewards_to_go[:, :t+padding_len+1]\n",
    "\n",
    "_, act_preds, _, all_weights, mlp_activations = model.forward(input_timesteps,\n",
    "                                                              input_states,\n",
    "                                                              input_actions,\n",
    "                                                              input_rewards_to_go)"
   ],
   "metadata": {
    "collapsed": false,
    "ExecuteTime": {
     "end_time": "2023-07-31T14:56:42.491808Z",
     "start_time": "2023-07-31T14:56:42.485963Z"
    }
   }
  },
  {
   "cell_type": "code",
   "execution_count": 570,
   "outputs": [],
   "source": [],
   "metadata": {
    "collapsed": false,
    "ExecuteTime": {
     "end_time": "2023-07-31T14:56:42.832197Z",
     "start_time": "2023-07-31T14:56:42.828275Z"
    }
   }
  },
  {
   "cell_type": "code",
   "execution_count": 571,
   "outputs": [
    {
     "data": {
      "text/plain": "<Figure size 640x480 with 2 Axes>",
      "image/png": "[encoded data removed]"
     },
     "metadata": {},
     "output_type": "display_data"
    }
   ],
   "source": [
    "logits = act_preds.detach().numpy().squeeze(axis=0)\n",
    "\n",
    "plt.imshow(logits, cmap='coolwarm', vmin=min(logits.min(), -logits.max()), vmax=max(logits.max(), -logits.min()))\n",
    "plt.colorbar()\n",
    "plt.scatter(logits.argmax(axis=1), range(logits.shape[0]), c='k', marker='x')\n",
    "\n",
    "a = logits[t].argmax()"
   ],
   "metadata": {
    "collapsed": false,
    "ExecuteTime": {
     "end_time": "2023-07-31T14:56:43.377739Z",
     "start_time": "2023-07-31T14:56:43.260184Z"
    }
   }
  },
  {
   "cell_type": "code",
   "execution_count": 572,
   "outputs": [],
   "source": [
    "actions[0, t] = a\n",
    "new_state, reward, done, _ = env.step(a)\n",
    "t += 1\n",
    "states[0, t] = new_state\n"
   ],
   "metadata": {
    "collapsed": false,
    "ExecuteTime": {
     "end_time": "2023-07-31T14:56:44.222483Z",
     "start_time": "2023-07-31T14:56:44.217288Z"
    }
   }
  },
  {
   "cell_type": "code",
   "execution_count": 573,
   "outputs": [],
   "source": [
    "input_timesteps = timesteps[:, :t+padding_len+1]\n",
    "input_states = states[:, :t+padding_len+1]\n",
    "input_actions = actions[:, :t+padding_len+1]\n",
    "input_rewards_to_go = rewards_to_go[:, :t+padding_len+1]\n",
    "\n",
    "_, act_preds, _, all_weights, mlp_activations = model.forward(input_timesteps,\n",
    "                                                              input_states,\n",
    "                                                              input_actions,\n",
    "                                                              input_rewards_to_go)\n"
   ],
   "metadata": {
    "collapsed": false,
    "ExecuteTime": {
     "end_time": "2023-07-31T14:56:44.615778Z",
     "start_time": "2023-07-31T14:56:44.612963Z"
    }
   }
  },
  {
   "cell_type": "code",
   "execution_count": 574,
   "outputs": [
    {
     "data": {
      "text/plain": "<Figure size 640x480 with 2 Axes>",
      "image/png": "[encoded data removed]"
     },
     "metadata": {},
     "output_type": "display_data"
    }
   ],
   "source": [
    "logits = act_preds.detach().numpy().squeeze(axis=0)\n",
    "\n",
    "plt.imshow(logits, cmap='coolwarm', vmin=min(logits.min(), -logits.max()), vmax=max(logits.max(), -logits.min()))\n",
    "plt.colorbar()\n",
    "plt.scatter(logits.argmax(axis=1), range(logits.shape[0]), c='k', marker='x')\n",
    "\n",
    "a = logits[t].argmax()\n"
   ],
   "metadata": {
    "collapsed": false,
    "ExecuteTime": {
     "end_time": "2023-07-31T14:56:45.030847Z",
     "start_time": "2023-07-31T14:56:44.908160Z"
    }
   }
  },
  {
   "cell_type": "code",
   "execution_count": 543,
   "outputs": [],
   "source": [],
   "metadata": {
    "collapsed": false,
    "ExecuteTime": {
     "end_time": "2023-07-31T14:53:01.602317Z",
     "start_time": "2023-07-31T14:53:01.597545Z"
    }
   }
  },
  {
   "cell_type": "code",
   "execution_count": 543,
   "outputs": [],
   "source": [],
   "metadata": {
    "collapsed": false,
    "ExecuteTime": {
     "end_time": "2023-07-31T14:53:03.016552Z",
     "start_time": "2023-07-31T14:53:03.001111Z"
    }
   }
  },
  {
   "cell_type": "code",
   "execution_count": 543,
   "outputs": [],
   "source": [],
   "metadata": {
    "collapsed": false,
    "ExecuteTime": {
     "end_time": "2023-07-31T14:53:03.196014Z",
     "start_time": "2023-07-31T14:53:03.190815Z"
    }
   }
  },
  {
   "cell_type": "code",
   "execution_count": null,
   "outputs": [],
   "source": [],
   "metadata": {
    "collapsed": false
   }
  }
 ],
 "metadata": {
  "kernelspec": {
   "display_name": "Python 3",
   "language": "python",
   "name": "python3"
  },
  "language_info": {
   "codemirror_mode": {
    "name": "ipython",
    "version": 2
   },
   "file_extension": ".py",
   "mimetype": "text/x-python",
   "name": "python",
   "nbconvert_exporter": "python",
   "pygments_lexer": "ipython2",
   "version": "2.7.6"
  }
 },
 "nbformat": 4,
 "nbformat_minor": 0
}
